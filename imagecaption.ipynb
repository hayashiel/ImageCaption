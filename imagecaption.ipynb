{
 "cells": [
  {
   "cell_type": "code",
   "execution_count": 1,
   "id": "4758ea66",
   "metadata": {
    "_cell_guid": "b1076dfc-b9ad-4769-8c92-a6c4dae69d19",
    "_uuid": "8f2839f25d086af736a60e9eeb907d3b93b6e0e5",
    "execution": {
     "iopub.execute_input": "2023-06-11T22:42:50.204867Z",
     "iopub.status.busy": "2023-06-11T22:42:50.204099Z",
     "iopub.status.idle": "2023-06-11T22:42:50.213987Z",
     "shell.execute_reply": "2023-06-11T22:42:50.213116Z"
    },
    "papermill": {
     "duration": 0.019865,
     "end_time": "2023-06-11T22:42:50.216112",
     "exception": false,
     "start_time": "2023-06-11T22:42:50.196247",
     "status": "completed"
    },
    "tags": []
   },
   "outputs": [],
   "source": [
    "# This Python 3 environment comes with many helpful analytics libraries installed\n",
    "# It is defined by the kaggle/python Docker image: https://github.com/kaggle/docker-python\n",
    "# For example, here's several helpful packages to load\n",
    "\n",
    "import numpy as np # linear algebra\n",
    "import pandas as pd # data processing, CSV file I/O (e.g. pd.read_csv)\n",
    "\n",
    "# Input data files are available in the read-only \"../input/\" directory\n",
    "# For example, running this (by clicking run or pressing Shift+Enter) will list all files under the input directory\n",
    "from PIL import Image\n",
    "import os\n",
    "\n",
    "#for dirname, _, filenames in os.walk('/kaggle/input'):\n",
    "#    for filename in filenames:\n",
    " #       print(os.path.join(dirname, filename))\n",
    "\n",
    "# You can write up to 20GB to the current directory (/kaggle/working/) that gets preserved as output when you create a version using \"Save & Run All\" \n",
    "# You can also write temporary files to /kaggle/temp/, but they won't be saved outside of the current session"
   ]
  },
  {
   "cell_type": "code",
   "execution_count": 2,
   "id": "e2b7f244",
   "metadata": {
    "execution": {
     "iopub.execute_input": "2023-06-11T22:42:50.229819Z",
     "iopub.status.busy": "2023-06-11T22:42:50.229464Z",
     "iopub.status.idle": "2023-06-11T22:42:58.675196Z",
     "shell.execute_reply": "2023-06-11T22:42:58.674072Z"
    },
    "papermill": {
     "duration": 8.455698,
     "end_time": "2023-06-11T22:42:58.677830",
     "exception": false,
     "start_time": "2023-06-11T22:42:50.222132",
     "status": "completed"
    },
    "tags": []
   },
   "outputs": [
    {
     "name": "stderr",
     "output_type": "stream",
     "text": [
      "/opt/conda/lib/python3.10/site-packages/tensorflow_io/python/ops/__init__.py:98: UserWarning: unable to load libtensorflow_io_plugins.so: unable to open file: libtensorflow_io_plugins.so, from paths: ['/opt/conda/lib/python3.10/site-packages/tensorflow_io/python/ops/libtensorflow_io_plugins.so']\n",
      "caused by: ['/opt/conda/lib/python3.10/site-packages/tensorflow_io/python/ops/libtensorflow_io_plugins.so: undefined symbol: _ZN3tsl6StatusC1EN10tensorflow5error4CodeESt17basic_string_viewIcSt11char_traitsIcEENS_14SourceLocationE']\n",
      "  warnings.warn(f\"unable to load libtensorflow_io_plugins.so: {e}\")\n",
      "/opt/conda/lib/python3.10/site-packages/tensorflow_io/python/ops/__init__.py:104: UserWarning: file system plugins are not loaded: unable to open file: libtensorflow_io.so, from paths: ['/opt/conda/lib/python3.10/site-packages/tensorflow_io/python/ops/libtensorflow_io.so']\n",
      "caused by: ['/opt/conda/lib/python3.10/site-packages/tensorflow_io/python/ops/libtensorflow_io.so: undefined symbol: _ZTVN10tensorflow13GcsFileSystemE']\n",
      "  warnings.warn(f\"file system plugins are not loaded: {e}\")\n"
     ]
    }
   ],
   "source": [
    "import tensorflow as tf"
   ]
  },
  {
   "cell_type": "code",
   "execution_count": 3,
   "id": "7d784d3f",
   "metadata": {
    "execution": {
     "iopub.execute_input": "2023-06-11T22:42:58.692569Z",
     "iopub.status.busy": "2023-06-11T22:42:58.691421Z",
     "iopub.status.idle": "2023-06-11T22:42:58.696505Z",
     "shell.execute_reply": "2023-06-11T22:42:58.695712Z"
    },
    "papermill": {
     "duration": 0.014591,
     "end_time": "2023-06-11T22:42:58.698647",
     "exception": false,
     "start_time": "2023-06-11T22:42:58.684056",
     "status": "completed"
    },
    "tags": []
   },
   "outputs": [],
   "source": [
    "#pip install tensorflow "
   ]
  },
  {
   "cell_type": "markdown",
   "id": "636b5240",
   "metadata": {
    "papermill": {
     "duration": 0.005686,
     "end_time": "2023-06-11T22:42:58.710152",
     "exception": false,
     "start_time": "2023-06-11T22:42:58.704466",
     "status": "completed"
    },
    "tags": []
   },
   "source": []
  },
  {
   "cell_type": "code",
   "execution_count": 4,
   "id": "535d0f62",
   "metadata": {
    "execution": {
     "iopub.execute_input": "2023-06-11T22:42:58.725144Z",
     "iopub.status.busy": "2023-06-11T22:42:58.724398Z",
     "iopub.status.idle": "2023-06-11T22:42:58.731798Z",
     "shell.execute_reply": "2023-06-11T22:42:58.730846Z"
    },
    "papermill": {
     "duration": 0.016266,
     "end_time": "2023-06-11T22:42:58.733666",
     "exception": false,
     "start_time": "2023-06-11T22:42:58.717400",
     "status": "completed"
    },
    "tags": []
   },
   "outputs": [],
   "source": [
    "import tensorflow as tf\n",
    "def _float_feature(value):\n",
    "    return tf.train.Feature(float_list = tf.train.FloatList(value = [value]))\n",
    "def _byte_feature(value):\n",
    "    if isinstance(value, type(tf.constant(0))): # if value ist tensor\n",
    "        value = value.numpy() # get value of tensor\n",
    "    return tf.train.Feature(bytes_list = tf.train.BytesList(value=[value]))\n",
    "def _int_64_feature(value):\n",
    "    return tf.train.Feature(int64_list = tf.train.Int64List(value = [value]))\n",
    "def serialize_array(value):\n",
    "    return tf.io.serialize_tensor(value)\n"
   ]
  },
  {
   "cell_type": "code",
   "execution_count": 5,
   "id": "eb0fb2a2",
   "metadata": {
    "execution": {
     "iopub.execute_input": "2023-06-11T22:42:58.747408Z",
     "iopub.status.busy": "2023-06-11T22:42:58.747047Z",
     "iopub.status.idle": "2023-06-11T22:42:58.754114Z",
     "shell.execute_reply": "2023-06-11T22:42:58.753303Z"
    },
    "papermill": {
     "duration": 0.016341,
     "end_time": "2023-06-11T22:42:58.755946",
     "exception": false,
     "start_time": "2023-06-11T22:42:58.739605",
     "status": "completed"
    },
    "tags": []
   },
   "outputs": [],
   "source": [
    "def makeEx(image_filename, label):\n",
    "    image = np.asarray(Image.open(image_filename).resize((400,400)))\n",
    "    data = {\n",
    "        \"height\": _int_64_feature(image.shape[0]),\n",
    "        \"width\" : _int_64_feature(image.shape[1]),\n",
    "        \"channels\": _int_64_feature(image.shape[2]),\n",
    "        \"label\": _byte_feature(bytes(label)),\n",
    "        \"image\": _byte_feature(serialize_array(image)),\n",
    "    }\n",
    "    \n",
    "    return tf.train.Example(features=tf.train.Features(feature=data))\n",
    "def makeRecordFile(files, labels, filename):\n",
    "    filename += \".tfrecords\"\n",
    "    writer = tf.io.TFRecordWriter(filename)\n",
    "    count = 0\n",
    "    for i in range(len(files)):\n",
    "        example = makeEx(files[i], bytes(labels[i],'utf-8'))\n",
    "        writer.write(example.SerializeToString())\n",
    "        count += 1\n",
    "    \n",
    "    writer.close()\n",
    "    print(\"Wrote {} to the record file\".format(count))\n"
   ]
  },
  {
   "cell_type": "code",
   "execution_count": 6,
   "id": "8d6583f7",
   "metadata": {
    "execution": {
     "iopub.execute_input": "2023-06-11T22:42:58.769490Z",
     "iopub.status.busy": "2023-06-11T22:42:58.769112Z",
     "iopub.status.idle": "2023-06-11T22:42:58.952198Z",
     "shell.execute_reply": "2023-06-11T22:42:58.950908Z"
    },
    "papermill": {
     "duration": 0.192907,
     "end_time": "2023-06-11T22:42:58.954753",
     "exception": false,
     "start_time": "2023-06-11T22:42:58.761846",
     "status": "completed"
    },
    "tags": []
   },
   "outputs": [],
   "source": [
    "from PIL import Image\n",
    "import os\n",
    "i = 0\n",
    "os.chdir(\"/kaggle/input/flickr8kimagescaptions/flickr8k/images\")\n",
    "files = os.listdir(os.getcwd())\n",
    "labels = []\n",
    "with open(\"/kaggle/input/flickr8kimagescaptions/flickr8k/captions.txt\", \"r\") as f:\n",
    "    labels = f.read().split(\"\\n\")[1:]\n",
    "#for file in files:\n",
    " #   np.asarray(Image.open(file))\n",
    "  #  file."
   ]
  },
  {
   "cell_type": "code",
   "execution_count": 7,
   "id": "fdeb6020",
   "metadata": {
    "execution": {
     "iopub.execute_input": "2023-06-11T22:42:58.968342Z",
     "iopub.status.busy": "2023-06-11T22:42:58.967958Z",
     "iopub.status.idle": "2023-06-11T22:42:58.988955Z",
     "shell.execute_reply": "2023-06-11T22:42:58.987828Z"
    },
    "papermill": {
     "duration": 0.030547,
     "end_time": "2023-06-11T22:42:58.991393",
     "exception": false,
     "start_time": "2023-06-11T22:42:58.960846",
     "status": "completed"
    },
    "tags": []
   },
   "outputs": [],
   "source": [
    "labels = [i[i.find(\".jpg\")+5:] for i in labels]"
   ]
  },
  {
   "cell_type": "code",
   "execution_count": 8,
   "id": "ef0d8dd6",
   "metadata": {
    "execution": {
     "iopub.execute_input": "2023-06-11T22:42:59.005092Z",
     "iopub.status.busy": "2023-06-11T22:42:59.004472Z",
     "iopub.status.idle": "2023-06-11T22:42:59.048423Z",
     "shell.execute_reply": "2023-06-11T22:42:59.047201Z"
    },
    "papermill": {
     "duration": 0.053504,
     "end_time": "2023-06-11T22:42:59.050826",
     "exception": false,
     "start_time": "2023-06-11T22:42:58.997322",
     "status": "completed"
    },
    "tags": []
   },
   "outputs": [
    {
     "name": "stdout",
     "output_type": "stream",
     "text": [
      "The unique characters are m.?fNAqP7WJFB4GnUo:RrypE;3!LwOT)z(-IgdXSKesb'xV2il,8hZ 6Da0cYjuQkHM#\"&=51C9tv and number 77\n"
     ]
    }
   ],
   "source": [
    "#https://towardsdatascience.com/a-practical-guide-to-tfrecords-584536bc786c\n",
    "labels\n",
    "unique_characters = list(set(\"\".join(labels)))\n",
    "num_unique = len(unique_characters)\n",
    "print(\"The unique characters are \" + \"\".join(unique_characters) + \" and number \" + str(num_unique))"
   ]
  },
  {
   "cell_type": "code",
   "execution_count": 9,
   "id": "62d5c8c0",
   "metadata": {
    "execution": {
     "iopub.execute_input": "2023-06-11T22:42:59.064397Z",
     "iopub.status.busy": "2023-06-11T22:42:59.064022Z",
     "iopub.status.idle": "2023-06-11T22:44:49.888163Z",
     "shell.execute_reply": "2023-06-11T22:44:49.886751Z"
    },
    "papermill": {
     "duration": 110.846817,
     "end_time": "2023-06-11T22:44:49.903728",
     "exception": false,
     "start_time": "2023-06-11T22:42:59.056911",
     "status": "completed"
    },
    "tags": []
   },
   "outputs": [
    {
     "name": "stdout",
     "output_type": "stream",
     "text": [
      "Wrote 8091 to the record file\n"
     ]
    }
   ],
   "source": [
    "makeRecordFile(files, labels, \"/kaggle/working/hello\")"
   ]
  },
  {
   "cell_type": "markdown",
   "id": "2231176c",
   "metadata": {
    "papermill": {
     "duration": 0.007313,
     "end_time": "2023-06-11T22:44:49.919416",
     "exception": false,
     "start_time": "2023-06-11T22:44:49.912103",
     "status": "completed"
    },
    "tags": []
   },
   "source": []
  },
  {
   "cell_type": "code",
   "execution_count": 10,
   "id": "e253d9d3",
   "metadata": {
    "execution": {
     "iopub.execute_input": "2023-06-11T22:44:49.936680Z",
     "iopub.status.busy": "2023-06-11T22:44:49.936172Z",
     "iopub.status.idle": "2023-06-11T22:44:50.147749Z",
     "shell.execute_reply": "2023-06-11T22:44:50.146513Z"
    },
    "papermill": {
     "duration": 0.223609,
     "end_time": "2023-06-11T22:44:50.150244",
     "exception": false,
     "start_time": "2023-06-11T22:44:49.926635",
     "status": "completed"
    },
    "tags": []
   },
   "outputs": [],
   "source": [
    "def parseEx(element):\n",
    "    data = {\n",
    "        \"height\": tf.io.FixedLenFeature([], dtype=tf.int64),\n",
    "        \"width\": tf.io.FixedLenFeature([], dtype=tf.int64),\n",
    "        \"channels\": tf.io.FixedLenFeature([], dtype=tf.int64),\n",
    "        \"label\": tf.io.FixedLenFeature([], dtype=tf.string),\n",
    "        \"image\": tf.io.FixedLenFeature([], dtype=tf.string),\n",
    "    }\n",
    "    ct = tf.io.parse_single_example(element, data)\n",
    "    \n",
    "    height = ct[\"height\"]\n",
    "    width = ct[\"width\"]\n",
    "    channels = ct[\"channels\"]\n",
    "    label = ct[\"label\"]\n",
    "    image = ct[\"image\"]\n",
    "    \n",
    "    image = tf.io.parse_tensor(image, out_type = tf.uint8)\n",
    "    image = tf.cast(image, dtype = tf.int64)\n",
    "    image = tf.cast(image, dtype=tf.float32)\n",
    "    image = tf.reshape(image, [height, width, channels])\n",
    "    return (image, label)\n",
    "\n",
    "def parseDst(filename):\n",
    "    dst = tf.data.TFRecordDataset(filename)\n",
    "    \n",
    "    dst = dst.map(\n",
    "        parseEx\n",
    "    )\n",
    "    return dst\n",
    "dst = parseDst(\"/kaggle/working/hello.tfrecords\")\n",
    "    "
   ]
  },
  {
   "cell_type": "code",
   "execution_count": 11,
   "id": "67418705",
   "metadata": {
    "execution": {
     "iopub.execute_input": "2023-06-11T22:44:50.165223Z",
     "iopub.status.busy": "2023-06-11T22:44:50.164498Z",
     "iopub.status.idle": "2023-06-11T22:44:50.449271Z",
     "shell.execute_reply": "2023-06-11T22:44:50.446614Z"
    },
    "papermill": {
     "duration": 0.305773,
     "end_time": "2023-06-11T22:44:50.462502",
     "exception": false,
     "start_time": "2023-06-11T22:44:50.156729",
     "status": "completed"
    },
    "tags": []
   },
   "outputs": [
    {
     "name": "stdout",
     "output_type": "stream",
     "text": [
      "[[[  0.   0.   0.]\n",
      "  [  0.   0.   0.]\n",
      "  [  0.   0.   0.]\n",
      "  ...\n",
      "  [  0.   0.   0.]\n",
      "  [  0.   0.   0.]\n",
      "  [  0.   0.   0.]]\n",
      "\n",
      " [[  0.   0.   0.]\n",
      "  [  0.   0.   0.]\n",
      "  [  0.   0.   0.]\n",
      "  ...\n",
      "  [  0.   0.   0.]\n",
      "  [  0.   0.   0.]\n",
      "  [  0.   0.   0.]]\n",
      "\n",
      " [[  0.   0.   0.]\n",
      "  [  0.   0.   0.]\n",
      "  [  0.   0.   0.]\n",
      "  ...\n",
      "  [  0.   0.   0.]\n",
      "  [  0.   0.   0.]\n",
      "  [  0.   0.   0.]]\n",
      "\n",
      " ...\n",
      "\n",
      " [[ 29.  29.  29.]\n",
      "  [ 10.  10.  10.]\n",
      "  [  1.   1.   1.]\n",
      "  ...\n",
      "  [107. 107. 107.]\n",
      "  [112. 112. 112.]\n",
      "  [116. 116. 116.]]\n",
      "\n",
      " [[ 16.  16.  16.]\n",
      "  [  1.   1.   1.]\n",
      "  [  1.   1.   1.]\n",
      "  ...\n",
      "  [108. 108. 108.]\n",
      "  [110. 110. 110.]\n",
      "  [112. 112. 112.]]\n",
      "\n",
      " [[  9.   9.   9.]\n",
      "  [  0.   0.   0.]\n",
      "  [  4.   4.   4.]\n",
      "  ...\n",
      "  [110. 110. 110.]\n",
      "  [109. 109. 109.]\n",
      "  [109. 109. 109.]]]\n",
      "tf.Tensor(b'A child in a pink dress is climbing up a set of stairs in an entry way .', shape=(), dtype=string)\n"
     ]
    }
   ],
   "source": [
    "import matplotlib.pyplot as plt\n",
    "\n",
    "for s, p in dst.take(1):\n",
    "    print(np.array(s))\n",
    "    print(p)"
   ]
  },
  {
   "cell_type": "code",
   "execution_count": 12,
   "id": "fbda2c04",
   "metadata": {
    "execution": {
     "iopub.execute_input": "2023-06-11T22:44:50.493422Z",
     "iopub.status.busy": "2023-06-11T22:44:50.492192Z",
     "iopub.status.idle": "2023-06-11T22:44:50.505324Z",
     "shell.execute_reply": "2023-06-11T22:44:50.502879Z"
    },
    "papermill": {
     "duration": 0.032885,
     "end_time": "2023-06-11T22:44:50.510502",
     "exception": false,
     "start_time": "2023-06-11T22:44:50.477617",
     "status": "completed"
    },
    "tags": []
   },
   "outputs": [],
   "source": [
    "import keras\n",
    "from keras.applications.vgg16 import VGG16"
   ]
  },
  {
   "cell_type": "code",
   "execution_count": 13,
   "id": "6b0ee4b7",
   "metadata": {
    "execution": {
     "iopub.execute_input": "2023-06-11T22:44:50.533377Z",
     "iopub.status.busy": "2023-06-11T22:44:50.532364Z",
     "iopub.status.idle": "2023-06-11T22:44:50.537641Z",
     "shell.execute_reply": "2023-06-11T22:44:50.536571Z"
    },
    "papermill": {
     "duration": 0.016722,
     "end_time": "2023-06-11T22:44:50.539737",
     "exception": false,
     "start_time": "2023-06-11T22:44:50.523015",
     "status": "completed"
    },
    "tags": []
   },
   "outputs": [],
   "source": [
    "# copy the weights and configurations for the pre-trained models (only required since Kaggle Kernels are offline)\n",
    "#!mkdir ~/.keras\n",
    "#!mkdir ~/.keras/models\n",
    "#!cp ../input/keras-pretrained-models/*notop* ~/.keras/models/\n",
    "#!cp ../input/keras-pretrained-models/imagenet_class_index.json ~/.keras/models/"
   ]
  },
  {
   "cell_type": "code",
   "execution_count": 14,
   "id": "75430693",
   "metadata": {
    "execution": {
     "iopub.execute_input": "2023-06-11T22:44:50.556551Z",
     "iopub.status.busy": "2023-06-11T22:44:50.555289Z",
     "iopub.status.idle": "2023-06-11T22:44:52.226429Z",
     "shell.execute_reply": "2023-06-11T22:44:52.225033Z"
    },
    "papermill": {
     "duration": 1.683422,
     "end_time": "2023-06-11T22:44:52.230144",
     "exception": false,
     "start_time": "2023-06-11T22:44:50.546722",
     "status": "completed"
    },
    "tags": []
   },
   "outputs": [],
   "source": [
    "enc = VGG16(include_top=False, weights='/kaggle/input/keras-pretrained-models/vgg16_weights_tf_dim_ordering_tf_kernels_notop.h5', input_shape=(400,400,3))"
   ]
  },
  {
   "cell_type": "code",
   "execution_count": 15,
   "id": "b7e165c0",
   "metadata": {
    "execution": {
     "iopub.execute_input": "2023-06-11T22:44:52.248554Z",
     "iopub.status.busy": "2023-06-11T22:44:52.247481Z",
     "iopub.status.idle": "2023-06-11T22:44:52.301695Z",
     "shell.execute_reply": "2023-06-11T22:44:52.300732Z"
    },
    "papermill": {
     "duration": 0.077408,
     "end_time": "2023-06-11T22:44:52.316041",
     "exception": false,
     "start_time": "2023-06-11T22:44:52.238633",
     "status": "completed"
    },
    "tags": []
   },
   "outputs": [
    {
     "name": "stdout",
     "output_type": "stream",
     "text": [
      "Model: \"vgg16\"\n",
      "_________________________________________________________________\n",
      " Layer (type)                Output Shape              Param #   \n",
      "=================================================================\n",
      " input_1 (InputLayer)        [(None, 400, 400, 3)]     0         \n",
      "                                                                 \n",
      " block1_conv1 (Conv2D)       (None, 400, 400, 64)      1792      \n",
      "                                                                 \n",
      " block1_conv2 (Conv2D)       (None, 400, 400, 64)      36928     \n",
      "                                                                 \n",
      " block1_pool (MaxPooling2D)  (None, 200, 200, 64)      0         \n",
      "                                                                 \n",
      " block2_conv1 (Conv2D)       (None, 200, 200, 128)     73856     \n",
      "                                                                 \n",
      " block2_conv2 (Conv2D)       (None, 200, 200, 128)     147584    \n",
      "                                                                 \n",
      " block2_pool (MaxPooling2D)  (None, 100, 100, 128)     0         \n",
      "                                                                 \n",
      " block3_conv1 (Conv2D)       (None, 100, 100, 256)     295168    \n",
      "                                                                 \n",
      " block3_conv2 (Conv2D)       (None, 100, 100, 256)     590080    \n",
      "                                                                 \n",
      " block3_conv3 (Conv2D)       (None, 100, 100, 256)     590080    \n",
      "                                                                 \n",
      " block3_pool (MaxPooling2D)  (None, 50, 50, 256)       0         \n",
      "                                                                 \n",
      " block4_conv1 (Conv2D)       (None, 50, 50, 512)       1180160   \n",
      "                                                                 \n",
      " block4_conv2 (Conv2D)       (None, 50, 50, 512)       2359808   \n",
      "                                                                 \n",
      " block4_conv3 (Conv2D)       (None, 50, 50, 512)       2359808   \n",
      "                                                                 \n",
      " block4_pool (MaxPooling2D)  (None, 25, 25, 512)       0         \n",
      "                                                                 \n",
      " block5_conv1 (Conv2D)       (None, 25, 25, 512)       2359808   \n",
      "                                                                 \n",
      " block5_conv2 (Conv2D)       (None, 25, 25, 512)       2359808   \n",
      "                                                                 \n",
      " block5_conv3 (Conv2D)       (None, 25, 25, 512)       2359808   \n",
      "                                                                 \n",
      " block5_pool (MaxPooling2D)  (None, 12, 12, 512)       0         \n",
      "                                                                 \n",
      "=================================================================\n",
      "Total params: 14,714,688\n",
      "Trainable params: 14,714,688\n",
      "Non-trainable params: 0\n",
      "_________________________________________________________________\n"
     ]
    }
   ],
   "source": [
    "enc.summary()"
   ]
  },
  {
   "cell_type": "code",
   "execution_count": 16,
   "id": "723ac743",
   "metadata": {
    "execution": {
     "iopub.execute_input": "2023-06-11T22:44:52.336139Z",
     "iopub.status.busy": "2023-06-11T22:44:52.335771Z",
     "iopub.status.idle": "2023-06-11T22:44:52.340974Z",
     "shell.execute_reply": "2023-06-11T22:44:52.340057Z"
    },
    "papermill": {
     "duration": 0.017729,
     "end_time": "2023-06-11T22:44:52.343083",
     "exception": false,
     "start_time": "2023-06-11T22:44:52.325354",
     "status": "completed"
    },
    "tags": []
   },
   "outputs": [],
   "source": [
    "for enc_layer in enc.layers:\n",
    "    enc_layer.trainable = False"
   ]
  },
  {
   "cell_type": "code",
   "execution_count": 17,
   "id": "684f7dfc",
   "metadata": {
    "execution": {
     "iopub.execute_input": "2023-06-11T22:44:52.363986Z",
     "iopub.status.busy": "2023-06-11T22:44:52.363206Z",
     "iopub.status.idle": "2023-06-11T22:44:53.845079Z",
     "shell.execute_reply": "2023-06-11T22:44:53.843978Z"
    },
    "papermill": {
     "duration": 1.495527,
     "end_time": "2023-06-11T22:44:53.847502",
     "exception": false,
     "start_time": "2023-06-11T22:44:52.351975",
     "status": "completed"
    },
    "tags": []
   },
   "outputs": [],
   "source": [
    "#https://stackoverflow.com/questions/71191514/typeerror-inputs-to-a-layer-should-be-tensors-got-tensorflow-python-keras-en\n",
    "from keras.layers import GRU, LSTM, Dense, TimeDistributed\n",
    "\n",
    "##inputs = tf.keras.Input(shape=inputs.get_output_at(0).get_shape())(enc.output)\n",
    "#inputs = tf.keras.layers.Flatten()(inputs)\n",
    "x = tf.reshape(enc.output, (12, 12, 512))\n",
    "x = LSTM(64, return_sequences=True)(x)\n",
    "\n",
    "x = LSTM(32, return_sequences=True)(x)\n",
    "x = TimeDistributed(Dense(100, activation=\"relu\"))(x)\n",
    "outputs = Dense(77, activation=\"softmax\")(x)\n",
    "\n",
    "model = keras.Model(inputs = enc.input, outputs = outputs)"
   ]
  },
  {
   "cell_type": "code",
   "execution_count": 18,
   "id": "1b043d0d",
   "metadata": {
    "execution": {
     "iopub.execute_input": "2023-06-11T22:44:53.870001Z",
     "iopub.status.busy": "2023-06-11T22:44:53.869622Z",
     "iopub.status.idle": "2023-06-11T22:44:53.874912Z",
     "shell.execute_reply": "2023-06-11T22:44:53.873593Z"
    },
    "papermill": {
     "duration": 0.019716,
     "end_time": "2023-06-11T22:44:53.877843",
     "exception": false,
     "start_time": "2023-06-11T22:44:53.858127",
     "status": "completed"
    },
    "tags": []
   },
   "outputs": [],
   "source": [
    "#enc.layers[0].get_shape()"
   ]
  },
  {
   "cell_type": "code",
   "execution_count": 19,
   "id": "e24eaeeb",
   "metadata": {
    "execution": {
     "iopub.execute_input": "2023-06-11T22:44:53.904839Z",
     "iopub.status.busy": "2023-06-11T22:44:53.904396Z",
     "iopub.status.idle": "2023-06-11T22:44:53.949378Z",
     "shell.execute_reply": "2023-06-11T22:44:53.946884Z"
    },
    "papermill": {
     "duration": 0.06147,
     "end_time": "2023-06-11T22:44:53.953361",
     "exception": false,
     "start_time": "2023-06-11T22:44:53.891891",
     "status": "completed"
    },
    "tags": []
   },
   "outputs": [],
   "source": [
    "model.compile(optimizer=\"adam\", loss=\"sparse_categorical_crossentropy\", metrics=[\"accuracy\"])"
   ]
  },
  {
   "cell_type": "code",
   "execution_count": 20,
   "id": "edce3288",
   "metadata": {
    "execution": {
     "iopub.execute_input": "2023-06-11T22:44:53.991012Z",
     "iopub.status.busy": "2023-06-11T22:44:53.990623Z",
     "iopub.status.idle": "2023-06-11T22:44:53.996052Z",
     "shell.execute_reply": "2023-06-11T22:44:53.995254Z"
    },
    "papermill": {
     "duration": 0.023896,
     "end_time": "2023-06-11T22:44:53.998390",
     "exception": false,
     "start_time": "2023-06-11T22:44:53.974494",
     "status": "completed"
    },
    "tags": []
   },
   "outputs": [],
   "source": [
    "#model.fit(dst, epochs=10)"
   ]
  },
  {
   "cell_type": "code",
   "execution_count": 21,
   "id": "8735f96d",
   "metadata": {
    "execution": {
     "iopub.execute_input": "2023-06-11T22:44:54.018839Z",
     "iopub.status.busy": "2023-06-11T22:44:54.018100Z",
     "iopub.status.idle": "2023-06-11T22:44:54.022697Z",
     "shell.execute_reply": "2023-06-11T22:44:54.021788Z"
    },
    "papermill": {
     "duration": 0.017425,
     "end_time": "2023-06-11T22:44:54.024890",
     "exception": false,
     "start_time": "2023-06-11T22:44:54.007465",
     "status": "completed"
    },
    "tags": []
   },
   "outputs": [],
   "source": [
    "#def hello(image, label):\n",
    "    #image = tf.reshape(image, shape = (image.shape + [1]))\n",
    "    #return (image, label)\n",
    "#dst.map(hello)"
   ]
  },
  {
   "cell_type": "code",
   "execution_count": 22,
   "id": "b5967283",
   "metadata": {
    "execution": {
     "iopub.execute_input": "2023-06-11T22:44:54.051828Z",
     "iopub.status.busy": "2023-06-11T22:44:54.051107Z",
     "iopub.status.idle": "2023-06-11T22:44:54.096299Z",
     "shell.execute_reply": "2023-06-11T22:44:54.095679Z"
    },
    "papermill": {
     "duration": 0.091345,
     "end_time": "2023-06-11T22:44:54.128824",
     "exception": false,
     "start_time": "2023-06-11T22:44:54.037479",
     "status": "completed"
    },
    "tags": []
   },
   "outputs": [
    {
     "name": "stdout",
     "output_type": "stream",
     "text": [
      "Model: \"model\"\n",
      "_________________________________________________________________\n",
      " Layer (type)                Output Shape              Param #   \n",
      "=================================================================\n",
      " input_1 (InputLayer)        [(None, 400, 400, 3)]     0         \n",
      "                                                                 \n",
      " block1_conv1 (Conv2D)       (None, 400, 400, 64)      1792      \n",
      "                                                                 \n",
      " block1_conv2 (Conv2D)       (None, 400, 400, 64)      36928     \n",
      "                                                                 \n",
      " block1_pool (MaxPooling2D)  (None, 200, 200, 64)      0         \n",
      "                                                                 \n",
      " block2_conv1 (Conv2D)       (None, 200, 200, 128)     73856     \n",
      "                                                                 \n",
      " block2_conv2 (Conv2D)       (None, 200, 200, 128)     147584    \n",
      "                                                                 \n",
      " block2_pool (MaxPooling2D)  (None, 100, 100, 128)     0         \n",
      "                                                                 \n",
      " block3_conv1 (Conv2D)       (None, 100, 100, 256)     295168    \n",
      "                                                                 \n",
      " block3_conv2 (Conv2D)       (None, 100, 100, 256)     590080    \n",
      "                                                                 \n",
      " block3_conv3 (Conv2D)       (None, 100, 100, 256)     590080    \n",
      "                                                                 \n",
      " block3_pool (MaxPooling2D)  (None, 50, 50, 256)       0         \n",
      "                                                                 \n",
      " block4_conv1 (Conv2D)       (None, 50, 50, 512)       1180160   \n",
      "                                                                 \n",
      " block4_conv2 (Conv2D)       (None, 50, 50, 512)       2359808   \n",
      "                                                                 \n",
      " block4_conv3 (Conv2D)       (None, 50, 50, 512)       2359808   \n",
      "                                                                 \n",
      " block4_pool (MaxPooling2D)  (None, 25, 25, 512)       0         \n",
      "                                                                 \n",
      " block5_conv1 (Conv2D)       (None, 25, 25, 512)       2359808   \n",
      "                                                                 \n",
      " block5_conv2 (Conv2D)       (None, 25, 25, 512)       2359808   \n",
      "                                                                 \n",
      " block5_conv3 (Conv2D)       (None, 25, 25, 512)       2359808   \n",
      "                                                                 \n",
      " block5_pool (MaxPooling2D)  (None, 12, 12, 512)       0         \n",
      "                                                                 \n",
      " tf.reshape (TFOpLambda)     (12, 12, 512)             0         \n",
      "                                                                 \n",
      " lstm (LSTM)                 (12, 12, 64)              147712    \n",
      "                                                                 \n",
      " lstm_1 (LSTM)               (12, 12, 32)              12416     \n",
      "                                                                 \n",
      " time_distributed (TimeDistr  (12, 12, 100)            3300      \n",
      " ibuted)                                                         \n",
      "                                                                 \n",
      " dense_1 (Dense)             (12, 12, 77)              7777      \n",
      "                                                                 \n",
      "=================================================================\n",
      "Total params: 14,885,893\n",
      "Trainable params: 171,205\n",
      "Non-trainable params: 14,714,688\n",
      "_________________________________________________________________\n"
     ]
    }
   ],
   "source": [
    "model.summary()"
   ]
  },
  {
   "cell_type": "code",
   "execution_count": 23,
   "id": "69755417",
   "metadata": {
    "execution": {
     "iopub.execute_input": "2023-06-11T22:44:54.164441Z",
     "iopub.status.busy": "2023-06-11T22:44:54.164042Z",
     "iopub.status.idle": "2023-06-11T22:44:54.176052Z",
     "shell.execute_reply": "2023-06-11T22:44:54.172713Z"
    },
    "papermill": {
     "duration": 0.030095,
     "end_time": "2023-06-11T22:44:54.178354",
     "exception": false,
     "start_time": "2023-06-11T22:44:54.148259",
     "status": "completed"
    },
    "tags": []
   },
   "outputs": [
    {
     "data": {
      "text/plain": [
       "<_MapDataset element_spec=(TensorSpec(shape=(None, None, None), dtype=tf.float32, name=None), TensorSpec(shape=(), dtype=tf.string, name=None))>"
      ]
     },
     "execution_count": 23,
     "metadata": {},
     "output_type": "execute_result"
    }
   ],
   "source": [
    "model.layers[0](dst)"
   ]
  }
 ],
 "metadata": {
  "kernelspec": {
   "display_name": "Python 3",
   "language": "python",
   "name": "python3"
  },
  "language_info": {
   "codemirror_mode": {
    "name": "ipython",
    "version": 3
   },
   "file_extension": ".py",
   "mimetype": "text/x-python",
   "name": "python",
   "nbconvert_exporter": "python",
   "pygments_lexer": "ipython3",
   "version": "3.10.10"
  },
  "papermill": {
   "default_parameters": {},
   "duration": 136.554781,
   "end_time": "2023-06-11T22:44:56.990085",
   "environment_variables": {},
   "exception": null,
   "input_path": "__notebook__.ipynb",
   "output_path": "__notebook__.ipynb",
   "parameters": {},
   "start_time": "2023-06-11T22:42:40.435304",
   "version": "2.4.0"
  }
 },
 "nbformat": 4,
 "nbformat_minor": 5
}
