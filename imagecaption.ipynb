{
 "cells": [
  {
   "cell_type": "code",
   "execution_count": 1,
   "id": "2a463949",
   "metadata": {
    "_cell_guid": "b1076dfc-b9ad-4769-8c92-a6c4dae69d19",
    "_uuid": "8f2839f25d086af736a60e9eeb907d3b93b6e0e5",
    "execution": {
     "iopub.execute_input": "2023-06-02T15:09:03.199823Z",
     "iopub.status.busy": "2023-06-02T15:09:03.199406Z",
     "iopub.status.idle": "2023-06-02T15:09:12.077338Z",
     "shell.execute_reply": "2023-06-02T15:09:12.076232Z"
    },
    "papermill": {
     "duration": 8.886921,
     "end_time": "2023-06-02T15:09:12.080263",
     "exception": false,
     "start_time": "2023-06-02T15:09:03.193342",
     "status": "completed"
    },
    "tags": []
   },
   "outputs": [
    {
     "name": "stderr",
     "output_type": "stream",
     "text": [
      "/opt/conda/lib/python3.10/site-packages/tensorflow_io/python/ops/__init__.py:98: UserWarning: unable to load libtensorflow_io_plugins.so: unable to open file: libtensorflow_io_plugins.so, from paths: ['/opt/conda/lib/python3.10/site-packages/tensorflow_io/python/ops/libtensorflow_io_plugins.so']\n",
      "caused by: ['/opt/conda/lib/python3.10/site-packages/tensorflow_io/python/ops/libtensorflow_io_plugins.so: undefined symbol: _ZN3tsl6StatusC1EN10tensorflow5error4CodeESt17basic_string_viewIcSt11char_traitsIcEENS_14SourceLocationE']\n",
      "  warnings.warn(f\"unable to load libtensorflow_io_plugins.so: {e}\")\n",
      "/opt/conda/lib/python3.10/site-packages/tensorflow_io/python/ops/__init__.py:104: UserWarning: file system plugins are not loaded: unable to open file: libtensorflow_io.so, from paths: ['/opt/conda/lib/python3.10/site-packages/tensorflow_io/python/ops/libtensorflow_io.so']\n",
      "caused by: ['/opt/conda/lib/python3.10/site-packages/tensorflow_io/python/ops/libtensorflow_io.so: undefined symbol: _ZTVN10tensorflow13GcsFileSystemE']\n",
      "  warnings.warn(f\"file system plugins are not loaded: {e}\")\n"
     ]
    }
   ],
   "source": [
    "# This Python 3 environment comes with many helpful analytics libraries installed\n",
    "# It is defined by the kaggle/python Docker image: https://github.com/kaggle/docker-python\n",
    "# For example, here's several helpful packages to load\n",
    "\n",
    "import numpy as np # linear algebra\n",
    "import pandas as pd # data processing, CSV file I/O (e.g. pd.read_csv)\n",
    "\n",
    "# Input data files are available in the read-only \"../input/\" directory\n",
    "# For example, running this (by clicking run or pressing Shift+Enter) will list all files under the input directory\n",
    "from PIL import Image\n",
    "import os\n",
    "import tensorflow as tf\n",
    "#for dirname, _, filenames in os.walk('/kaggle/input'):\n",
    "#    for filename in filenames:\n",
    " #       print(os.path.join(dirname, filename))\n",
    "\n",
    "# You can write up to 20GB to the current directory (/kaggle/working/) that gets preserved as output when you create a version using \"Save & Run All\" \n",
    "# You can also write temporary files to /kaggle/temp/, but they won't be saved outside of the current session"
   ]
  },
  {
   "cell_type": "code",
   "execution_count": null,
   "id": "c36b1952",
   "metadata": {
    "papermill": {
     "duration": 0.003559,
     "end_time": "2023-06-02T15:09:12.088085",
     "exception": false,
     "start_time": "2023-06-02T15:09:12.084526",
     "status": "completed"
    },
    "tags": []
   },
   "outputs": [],
   "source": []
  },
  {
   "cell_type": "markdown",
   "id": "d931015e",
   "metadata": {
    "papermill": {
     "duration": 0.003409,
     "end_time": "2023-06-02T15:09:12.095230",
     "exception": false,
     "start_time": "2023-06-02T15:09:12.091821",
     "status": "completed"
    },
    "tags": []
   },
   "source": []
  },
  {
   "cell_type": "code",
   "execution_count": 2,
   "id": "f28ba4e7",
   "metadata": {
    "execution": {
     "iopub.execute_input": "2023-06-02T15:09:12.104939Z",
     "iopub.status.busy": "2023-06-02T15:09:12.104160Z",
     "iopub.status.idle": "2023-06-02T15:09:12.113132Z",
     "shell.execute_reply": "2023-06-02T15:09:12.111981Z"
    },
    "papermill": {
     "duration": 0.016321,
     "end_time": "2023-06-02T15:09:12.115290",
     "exception": false,
     "start_time": "2023-06-02T15:09:12.098969",
     "status": "completed"
    },
    "tags": []
   },
   "outputs": [],
   "source": [
    "import tensorflow as tf\n",
    "def _float_feature(value):\n",
    "    return tf.train.Feature(float_list = tf.train.FloatList(value = [value]))\n",
    "def _byte_feature(value):\n",
    "    if isinstance(value, type(tf.constant(0))): # if value ist tensor\n",
    "        value = value.numpy() # get value of tensor\n",
    "    return tf.train.Feature(bytes_list = tf.train.BytesList(value=[value]))\n",
    "def _int_64_feature(value):\n",
    "    return tf.train.Feature(float_list = tf.train.FloatList(value = [value]))\n",
    "def serialize_array(value):\n",
    "    return tf.io.serialize_tensor(value)\n"
   ]
  },
  {
   "cell_type": "code",
   "execution_count": 3,
   "id": "d67e5d7e",
   "metadata": {
    "execution": {
     "iopub.execute_input": "2023-06-02T15:09:12.124748Z",
     "iopub.status.busy": "2023-06-02T15:09:12.124256Z",
     "iopub.status.idle": "2023-06-02T15:09:12.134246Z",
     "shell.execute_reply": "2023-06-02T15:09:12.133090Z"
    },
    "papermill": {
     "duration": 0.017439,
     "end_time": "2023-06-02T15:09:12.136641",
     "exception": false,
     "start_time": "2023-06-02T15:09:12.119202",
     "status": "completed"
    },
    "tags": []
   },
   "outputs": [],
   "source": [
    "def makeEx(image_filename, label):\n",
    "    image = np.asarray(Image.open(image_filename).resize((400,400)))\n",
    "    data = {\n",
    "        \"height\": _int_64_feature(image.shape[0]),\n",
    "        \"width\" : _int_64_feature(image.shape[1]),\n",
    "        \"channels\": _int_64_feature(image.shape[2]),\n",
    "        \"label\": _byte_feature(bytes(label)),\n",
    "        \"image\": _byte_feature(serialize_array(image)),\n",
    "    }\n",
    "    \n",
    "    return tf.train.Example(features=tf.train.Features(feature=data))\n",
    "def makeRecordFile(files, labels, filename):\n",
    "    filename += \".tfrecords\"\n",
    "    writer = tf.io.TFRecordWriter(filename)\n",
    "    count = 0\n",
    "    for i in range(len(files)):\n",
    "        example = makeEx(files[i], bytes(labels[i],'utf-8'))\n",
    "        writer.write(example.SerializeToString())\n",
    "        count += 1\n",
    "    \n",
    "    writer.close()\n",
    "    print(\"Wrote {} to the record file\".format(count))\n"
   ]
  },
  {
   "cell_type": "code",
   "execution_count": 4,
   "id": "a7849bfb",
   "metadata": {
    "execution": {
     "iopub.execute_input": "2023-06-02T15:09:12.146083Z",
     "iopub.status.busy": "2023-06-02T15:09:12.145663Z",
     "iopub.status.idle": "2023-06-02T15:09:12.369091Z",
     "shell.execute_reply": "2023-06-02T15:09:12.368220Z"
    },
    "papermill": {
     "duration": 0.231486,
     "end_time": "2023-06-02T15:09:12.372057",
     "exception": false,
     "start_time": "2023-06-02T15:09:12.140571",
     "status": "completed"
    },
    "tags": []
   },
   "outputs": [],
   "source": [
    "from PIL import Image\n",
    "import os\n",
    "i = 0\n",
    "os.chdir(\"/kaggle/input/flickr8kimagescaptions/flickr8k/images\")\n",
    "files = os.listdir(os.getcwd())\n",
    "labels = []\n",
    "with open(\"/kaggle/input/flickr8kimagescaptions/flickr8k/captions.txt\", \"r\") as f:\n",
    "    labels = f.read().split(\"\\n\")[1:]\n",
    "#for file in files:\n",
    " #   np.asarray(Image.open(file))\n",
    "  #  file."
   ]
  },
  {
   "cell_type": "code",
   "execution_count": 5,
   "id": "8e63f422",
   "metadata": {
    "execution": {
     "iopub.execute_input": "2023-06-02T15:09:12.381860Z",
     "iopub.status.busy": "2023-06-02T15:09:12.381414Z",
     "iopub.status.idle": "2023-06-02T15:09:12.406963Z",
     "shell.execute_reply": "2023-06-02T15:09:12.405907Z"
    },
    "papermill": {
     "duration": 0.033408,
     "end_time": "2023-06-02T15:09:12.409480",
     "exception": false,
     "start_time": "2023-06-02T15:09:12.376072",
     "status": "completed"
    },
    "tags": []
   },
   "outputs": [],
   "source": [
    "labels = [i[i.find(\".jpg\")+5:] for i in labels]"
   ]
  },
  {
   "cell_type": "code",
   "execution_count": 6,
   "id": "d789ac47",
   "metadata": {
    "execution": {
     "iopub.execute_input": "2023-06-02T15:09:12.419094Z",
     "iopub.status.busy": "2023-06-02T15:09:12.418472Z",
     "iopub.status.idle": "2023-06-02T15:09:12.464007Z",
     "shell.execute_reply": "2023-06-02T15:09:12.462814Z"
    },
    "papermill": {
     "duration": 0.054381,
     "end_time": "2023-06-02T15:09:12.467835",
     "exception": false,
     "start_time": "2023-06-02T15:09:12.413454",
     "status": "completed"
    },
    "tags": []
   },
   "outputs": [
    {
     "name": "stdout",
     "output_type": "stream",
     "text": [
      "The unique characters are bdBsx7TS4vetWl.kV;9zY\"q03hDOGaNuU18rMc:P(pKFHy#I6Q,)!o?jg-R5Z2=ifACm w'ELJn&X and number 77\n"
     ]
    }
   ],
   "source": [
    "#https://towardsdatascience.com/a-practical-guide-to-tfrecords-584536bc786c\n",
    "labels\n",
    "unique_characters = list(set(\"\".join(labels)))\n",
    "num_unique = len(unique_characters)\n",
    "print(\"The unique characters are \" + \"\".join(unique_characters) + \" and number \" + str(num_unique))"
   ]
  },
  {
   "cell_type": "code",
   "execution_count": 7,
   "id": "fcfc1076",
   "metadata": {
    "execution": {
     "iopub.execute_input": "2023-06-02T15:09:12.477332Z",
     "iopub.status.busy": "2023-06-02T15:09:12.476922Z",
     "iopub.status.idle": "2023-06-02T15:11:59.522576Z",
     "shell.execute_reply": "2023-06-02T15:11:59.521341Z"
    },
    "papermill": {
     "duration": 167.059113,
     "end_time": "2023-06-02T15:11:59.530891",
     "exception": false,
     "start_time": "2023-06-02T15:09:12.471778",
     "status": "completed"
    },
    "tags": []
   },
   "outputs": [
    {
     "name": "stdout",
     "output_type": "stream",
     "text": [
      "Wrote 8091 to the record file\n"
     ]
    }
   ],
   "source": [
    "makeRecordFile(files, labels, \"/kaggle/working/hello\")"
   ]
  }
 ],
 "metadata": {
  "kernelspec": {
   "display_name": "Python 3",
   "language": "python",
   "name": "python3"
  },
  "language_info": {
   "codemirror_mode": {
    "name": "ipython",
    "version": 3
   },
   "file_extension": ".py",
   "mimetype": "text/x-python",
   "name": "python",
   "nbconvert_exporter": "python",
   "pygments_lexer": "ipython3",
   "version": "3.10.10"
  },
  "papermill": {
   "default_parameters": {},
   "duration": 191.809119,
   "end_time": "2023-06-02T15:12:02.859685",
   "environment_variables": {},
   "exception": null,
   "input_path": "__notebook__.ipynb",
   "output_path": "__notebook__.ipynb",
   "parameters": {},
   "start_time": "2023-06-02T15:08:51.050566",
   "version": "2.4.0"
  }
 },
 "nbformat": 4,
 "nbformat_minor": 5
}
